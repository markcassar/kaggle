{
 "cells": [
  {
   "cell_type": "code",
   "execution_count": 5,
   "metadata": {},
   "outputs": [
    {
     "data": {
      "text/plain": [
       "<matplotlib.image.AxesImage at 0x175f8c7c5c0>"
      ]
     },
     "execution_count": 5,
     "metadata": {},
     "output_type": "execute_result"
    },
    {
     "data": {
      "image/png": "[encoded data removed]",
      "text/plain": [
       "<Figure size 432x288 with 1 Axes>"
      ]
     },
     "metadata": {
      "needs_background": "light"
     },
     "output_type": "display_data"
    }
   ],
   "source": [
    "import matplotlib.pyplot as plt\n",
    "from matplotlib.image import imread\n",
    "\n",
    "img = imread('train/0004be2cfeaba1c0361d39e2b000257b.jpg')\n",
    "plt.imshow(img)"
   ]
  },
  {
   "cell_type": "code",
   "execution_count": 6,
   "metadata": {},
   "outputs": [
    {
     "data": {
      "text/plain": [
       "(32, 32, 3)"
      ]
     },
     "execution_count": 6,
     "metadata": {},
     "output_type": "execute_result"
    }
   ],
   "source": [
    "img.shape"
   ]
  },
  {
   "cell_type": "code",
   "execution_count": 83,
   "metadata": {},
   "outputs": [],
   "source": [
    "# use opencv package to load images\n",
    "import glob\n",
    "import cv2\n",
    "\n",
    "images = { file[8:]:cv2.imread(file) for file in glob.glob(\"./train/*.jpg\")}"
   ]
  },
  {
   "cell_type": "code",
   "execution_count": 85,
   "metadata": {},
   "outputs": [
    {
     "data": {
      "text/plain": [
       "(32, 32, 3)"
      ]
     },
     "execution_count": 85,
     "metadata": {},
     "output_type": "execute_result"
    }
   ],
   "source": [
    "images['0004be2cfeaba1c0361d39e2b000257b.jpg'].shape\n",
    "#next(iter(images))"
   ]
  },
  {
   "cell_type": "code",
   "execution_count": 86,
   "metadata": {},
   "outputs": [
    {
     "data": {
      "text/html": [
       "<div>\n",
       "<style scoped>\n",
       "    .dataframe tbody tr th:only-of-type {\n",
       "        vertical-align: middle;\n",
       "    }\n",
       "\n",
       "    .dataframe tbody tr th {\n",
       "        vertical-align: top;\n",
       "    }\n",
       "\n",
       "    .dataframe thead th {\n",
       "        text-align: right;\n",
       "    }\n",
       "</style>\n",
       "<table border=\"1\" class=\"dataframe\">\n",
       "  <thead>\n",
       "    <tr style=\"text-align: right;\">\n",
       "      <th></th>\n",
       "      <th>id</th>\n",
       "      <th>has_cactus</th>\n",
       "    </tr>\n",
       "  </thead>\n",
       "  <tbody>\n",
       "    <tr>\n",
       "      <th>0</th>\n",
       "      <td>0004be2cfeaba1c0361d39e2b000257b.jpg</td>\n",
       "      <td>1</td>\n",
       "    </tr>\n",
       "    <tr>\n",
       "      <th>1</th>\n",
       "      <td>000c8a36845c0208e833c79c1bffedd1.jpg</td>\n",
       "      <td>1</td>\n",
       "    </tr>\n",
       "    <tr>\n",
       "      <th>2</th>\n",
       "      <td>000d1e9a533f62e55c289303b072733d.jpg</td>\n",
       "      <td>1</td>\n",
       "    </tr>\n",
       "    <tr>\n",
       "      <th>3</th>\n",
       "      <td>0011485b40695e9138e92d0b3fb55128.jpg</td>\n",
       "      <td>1</td>\n",
       "    </tr>\n",
       "    <tr>\n",
       "      <th>4</th>\n",
       "      <td>0014d7a11e90b62848904c1418fc8cf2.jpg</td>\n",
       "      <td>1</td>\n",
       "    </tr>\n",
       "    <tr>\n",
       "      <th>5</th>\n",
       "      <td>0017c3c18ddd57a2ea6f9848c79d83d2.jpg</td>\n",
       "      <td>1</td>\n",
       "    </tr>\n",
       "    <tr>\n",
       "      <th>6</th>\n",
       "      <td>002134abf28af54575c18741b89dd2a4.jpg</td>\n",
       "      <td>0</td>\n",
       "    </tr>\n",
       "    <tr>\n",
       "      <th>7</th>\n",
       "      <td>0024320f43bdd490562246435af4f90b.jpg</td>\n",
       "      <td>0</td>\n",
       "    </tr>\n",
       "    <tr>\n",
       "      <th>8</th>\n",
       "      <td>002930423b9840e67e5a54afd4768a1e.jpg</td>\n",
       "      <td>1</td>\n",
       "    </tr>\n",
       "    <tr>\n",
       "      <th>9</th>\n",
       "      <td>00351838ebf6dff6e53056e00a1e307c.jpg</td>\n",
       "      <td>1</td>\n",
       "    </tr>\n",
       "    <tr>\n",
       "      <th>10</th>\n",
       "      <td>003519dd841a97ed16481fa0657df04d.jpg</td>\n",
       "      <td>1</td>\n",
       "    </tr>\n",
       "    <tr>\n",
       "      <th>11</th>\n",
       "      <td>003bb64852016d9c87871ddd8e25ab03.jpg</td>\n",
       "      <td>0</td>\n",
       "    </tr>\n",
       "    <tr>\n",
       "      <th>12</th>\n",
       "      <td>003ec9bcef67171ba49fe4c3b7c80aec.jpg</td>\n",
       "      <td>1</td>\n",
       "    </tr>\n",
       "    <tr>\n",
       "      <th>13</th>\n",
       "      <td>003eeb9a86e36cd6328c778c15df890d.jpg</td>\n",
       "      <td>1</td>\n",
       "    </tr>\n",
       "    <tr>\n",
       "      <th>14</th>\n",
       "      <td>0045d0f2aec739370eaefac79ee5b96c.jpg</td>\n",
       "      <td>0</td>\n",
       "    </tr>\n",
       "    <tr>\n",
       "      <th>15</th>\n",
       "      <td>004fceec9b9b6a31dc9b0540fd69c692.jpg</td>\n",
       "      <td>1</td>\n",
       "    </tr>\n",
       "    <tr>\n",
       "      <th>16</th>\n",
       "      <td>0051207eb794887c619341090de84b50.jpg</td>\n",
       "      <td>0</td>\n",
       "    </tr>\n",
       "    <tr>\n",
       "      <th>17</th>\n",
       "      <td>0052d90950c3f08ed778d638a956fd43.jpg</td>\n",
       "      <td>0</td>\n",
       "    </tr>\n",
       "    <tr>\n",
       "      <th>18</th>\n",
       "      <td>0057728c8522c4881af60c3105b6492e.jpg</td>\n",
       "      <td>0</td>\n",
       "    </tr>\n",
       "    <tr>\n",
       "      <th>19</th>\n",
       "      <td>005aa32619d179665ecad3b227f8b537.jpg</td>\n",
       "      <td>1</td>\n",
       "    </tr>\n",
       "    <tr>\n",
       "      <th>20</th>\n",
       "      <td>0062380830fe60c692a148afe64906ac.jpg</td>\n",
       "      <td>0</td>\n",
       "    </tr>\n",
       "    <tr>\n",
       "      <th>21</th>\n",
       "      <td>00677f0440d465c2a685e33ded9bb729.jpg</td>\n",
       "      <td>1</td>\n",
       "    </tr>\n",
       "    <tr>\n",
       "      <th>22</th>\n",
       "      <td>006bceec83605c63d844ed160cdbba89.jpg</td>\n",
       "      <td>1</td>\n",
       "    </tr>\n",
       "    <tr>\n",
       "      <th>23</th>\n",
       "      <td>007a6a49d6049207f1716d1cc0fdf175.jpg</td>\n",
       "      <td>1</td>\n",
       "    </tr>\n",
       "    <tr>\n",
       "      <th>24</th>\n",
       "      <td>007eba3edaf50d328eb0b668ab2f8d52.jpg</td>\n",
       "      <td>1</td>\n",
       "    </tr>\n",
       "    <tr>\n",
       "      <th>25</th>\n",
       "      <td>0085d61fa046172fa53f4c2cb76d8641.jpg</td>\n",
       "      <td>1</td>\n",
       "    </tr>\n",
       "    <tr>\n",
       "      <th>26</th>\n",
       "      <td>0086c5ddeb9e0b1f5ed6baedceece668.jpg</td>\n",
       "      <td>1</td>\n",
       "    </tr>\n",
       "    <tr>\n",
       "      <th>27</th>\n",
       "      <td>008bd3d84a1145e154409c124de7cee9.jpg</td>\n",
       "      <td>1</td>\n",
       "    </tr>\n",
       "    <tr>\n",
       "      <th>28</th>\n",
       "      <td>008ce77c81fdfd4a29c128207916c1b0.jpg</td>\n",
       "      <td>1</td>\n",
       "    </tr>\n",
       "    <tr>\n",
       "      <th>29</th>\n",
       "      <td>008d5b24c8348d3f52e84e4f7e2780b1.jpg</td>\n",
       "      <td>1</td>\n",
       "    </tr>\n",
       "    <tr>\n",
       "      <th>...</th>\n",
       "      <td>...</td>\n",
       "      <td>...</td>\n",
       "    </tr>\n",
       "    <tr>\n",
       "      <th>17470</th>\n",
       "      <td>ff92d4c0ff67a3849040e11a15f9194f.jpg</td>\n",
       "      <td>1</td>\n",
       "    </tr>\n",
       "    <tr>\n",
       "      <th>17471</th>\n",
       "      <td>ff9ab24ffb1968d9ddf19f737fa40958.jpg</td>\n",
       "      <td>1</td>\n",
       "    </tr>\n",
       "    <tr>\n",
       "      <th>17472</th>\n",
       "      <td>ff9abe7c0971ebd190b16909e38db289.jpg</td>\n",
       "      <td>1</td>\n",
       "    </tr>\n",
       "    <tr>\n",
       "      <th>17473</th>\n",
       "      <td>ff9b5f66dfa0f316b167084f0108c189.jpg</td>\n",
       "      <td>1</td>\n",
       "    </tr>\n",
       "    <tr>\n",
       "      <th>17474</th>\n",
       "      <td>ff9da08031f447c2fff7766461e7c2dd.jpg</td>\n",
       "      <td>0</td>\n",
       "    </tr>\n",
       "    <tr>\n",
       "      <th>17475</th>\n",
       "      <td>ffa6090ece03a8b7689a1be0a0ea893c.jpg</td>\n",
       "      <td>0</td>\n",
       "    </tr>\n",
       "    <tr>\n",
       "      <th>17476</th>\n",
       "      <td>ffaeec2a3d8a657bc1479c5c0d38b38b.jpg</td>\n",
       "      <td>0</td>\n",
       "    </tr>\n",
       "    <tr>\n",
       "      <th>17477</th>\n",
       "      <td>ffb017097eddff134ae12a844b7691df.jpg</td>\n",
       "      <td>0</td>\n",
       "    </tr>\n",
       "    <tr>\n",
       "      <th>17478</th>\n",
       "      <td>ffb1dae6aedf582f5aba78ebc50e00d8.jpg</td>\n",
       "      <td>1</td>\n",
       "    </tr>\n",
       "    <tr>\n",
       "      <th>17479</th>\n",
       "      <td>ffb3b4cf5fca27d68a599a8ad8c26ec6.jpg</td>\n",
       "      <td>0</td>\n",
       "    </tr>\n",
       "    <tr>\n",
       "      <th>17480</th>\n",
       "      <td>ffb6084495fab237f523e574836f136c.jpg</td>\n",
       "      <td>0</td>\n",
       "    </tr>\n",
       "    <tr>\n",
       "      <th>17481</th>\n",
       "      <td>ffbeb9b203222189319ac68a83500707.jpg</td>\n",
       "      <td>1</td>\n",
       "    </tr>\n",
       "    <tr>\n",
       "      <th>17482</th>\n",
       "      <td>ffc174b5f5aef74f7fcd646cbb259784.jpg</td>\n",
       "      <td>1</td>\n",
       "    </tr>\n",
       "    <tr>\n",
       "      <th>17483</th>\n",
       "      <td>ffc53a9af378a0a27610d20754006a72.jpg</td>\n",
       "      <td>1</td>\n",
       "    </tr>\n",
       "    <tr>\n",
       "      <th>17484</th>\n",
       "      <td>ffc850bac95f43ecd72924b750950276.jpg</td>\n",
       "      <td>0</td>\n",
       "    </tr>\n",
       "    <tr>\n",
       "      <th>17485</th>\n",
       "      <td>ffcd13809e02dcda609dc47202f1fd0e.jpg</td>\n",
       "      <td>0</td>\n",
       "    </tr>\n",
       "    <tr>\n",
       "      <th>17486</th>\n",
       "      <td>ffd2d1cf5e48b82bf687ce47cbf7d343.jpg</td>\n",
       "      <td>1</td>\n",
       "    </tr>\n",
       "    <tr>\n",
       "      <th>17487</th>\n",
       "      <td>ffd48101a898def476122e04fd1d54f1.jpg</td>\n",
       "      <td>1</td>\n",
       "    </tr>\n",
       "    <tr>\n",
       "      <th>17488</th>\n",
       "      <td>ffd686dcbe047a863de4d250d9b7687a.jpg</td>\n",
       "      <td>1</td>\n",
       "    </tr>\n",
       "    <tr>\n",
       "      <th>17489</th>\n",
       "      <td>ffded2566b32d90c8fc9fe116ce1ba6f.jpg</td>\n",
       "      <td>1</td>\n",
       "    </tr>\n",
       "    <tr>\n",
       "      <th>17490</th>\n",
       "      <td>ffe49c4570c6d3be26d63c8c3aecdc91.jpg</td>\n",
       "      <td>1</td>\n",
       "    </tr>\n",
       "    <tr>\n",
       "      <th>17491</th>\n",
       "      <td>ffe60470e1ee7fed0833148bf83b7d4c.jpg</td>\n",
       "      <td>0</td>\n",
       "    </tr>\n",
       "    <tr>\n",
       "      <th>17492</th>\n",
       "      <td>ffe6c69f8beced1c36f1dd1def313490.jpg</td>\n",
       "      <td>1</td>\n",
       "    </tr>\n",
       "    <tr>\n",
       "      <th>17493</th>\n",
       "      <td>ffeafc3bd716a83bc93014fdb0ef53fa.jpg</td>\n",
       "      <td>1</td>\n",
       "    </tr>\n",
       "    <tr>\n",
       "      <th>17494</th>\n",
       "      <td>ffed5c4d70e58d53fbba6e92570371ef.jpg</td>\n",
       "      <td>1</td>\n",
       "    </tr>\n",
       "    <tr>\n",
       "      <th>17495</th>\n",
       "      <td>ffede47a74e47a5930f81c0b6896479e.jpg</td>\n",
       "      <td>0</td>\n",
       "    </tr>\n",
       "    <tr>\n",
       "      <th>17496</th>\n",
       "      <td>ffef6382a50d23251d4bc05519c91037.jpg</td>\n",
       "      <td>1</td>\n",
       "    </tr>\n",
       "    <tr>\n",
       "      <th>17497</th>\n",
       "      <td>fff059ecc91b30be5745e8b81111dc7b.jpg</td>\n",
       "      <td>1</td>\n",
       "    </tr>\n",
       "    <tr>\n",
       "      <th>17498</th>\n",
       "      <td>fff43acb3b7a23edcc4ae937be2b7522.jpg</td>\n",
       "      <td>0</td>\n",
       "    </tr>\n",
       "    <tr>\n",
       "      <th>17499</th>\n",
       "      <td>fffd9e9b990eba07c836745d8aef1a3a.jpg</td>\n",
       "      <td>1</td>\n",
       "    </tr>\n",
       "  </tbody>\n",
       "</table>\n",
       "<p>17500 rows × 2 columns</p>\n",
       "</div>"
      ],
      "text/plain": [
       "                                         id  has_cactus\n",
       "0      0004be2cfeaba1c0361d39e2b000257b.jpg           1\n",
       "1      000c8a36845c0208e833c79c1bffedd1.jpg           1\n",
       "2      000d1e9a533f62e55c289303b072733d.jpg           1\n",
       "3      0011485b40695e9138e92d0b3fb55128.jpg           1\n",
       "4      0014d7a11e90b62848904c1418fc8cf2.jpg           1\n",
       "5      0017c3c18ddd57a2ea6f9848c79d83d2.jpg           1\n",
       "6      002134abf28af54575c18741b89dd2a4.jpg           0\n",
       "7      0024320f43bdd490562246435af4f90b.jpg           0\n",
       "8      002930423b9840e67e5a54afd4768a1e.jpg           1\n",
       "9      00351838ebf6dff6e53056e00a1e307c.jpg           1\n",
       "10     003519dd841a97ed16481fa0657df04d.jpg           1\n",
       "11     003bb64852016d9c87871ddd8e25ab03.jpg           0\n",
       "12     003ec9bcef67171ba49fe4c3b7c80aec.jpg           1\n",
       "13     003eeb9a86e36cd6328c778c15df890d.jpg           1\n",
       "14     0045d0f2aec739370eaefac79ee5b96c.jpg           0\n",
       "15     004fceec9b9b6a31dc9b0540fd69c692.jpg           1\n",
       "16     0051207eb794887c619341090de84b50.jpg           0\n",
       "17     0052d90950c3f08ed778d638a956fd43.jpg           0\n",
       "18     0057728c8522c4881af60c3105b6492e.jpg           0\n",
       "19     005aa32619d179665ecad3b227f8b537.jpg           1\n",
       "20     0062380830fe60c692a148afe64906ac.jpg           0\n",
       "21     00677f0440d465c2a685e33ded9bb729.jpg           1\n",
       "22     006bceec83605c63d844ed160cdbba89.jpg           1\n",
       "23     007a6a49d6049207f1716d1cc0fdf175.jpg           1\n",
       "24     007eba3edaf50d328eb0b668ab2f8d52.jpg           1\n",
       "25     0085d61fa046172fa53f4c2cb76d8641.jpg           1\n",
       "26     0086c5ddeb9e0b1f5ed6baedceece668.jpg           1\n",
       "27     008bd3d84a1145e154409c124de7cee9.jpg           1\n",
       "28     008ce77c81fdfd4a29c128207916c1b0.jpg           1\n",
       "29     008d5b24c8348d3f52e84e4f7e2780b1.jpg           1\n",
       "...                                     ...         ...\n",
       "17470  ff92d4c0ff67a3849040e11a15f9194f.jpg           1\n",
       "17471  ff9ab24ffb1968d9ddf19f737fa40958.jpg           1\n",
       "17472  ff9abe7c0971ebd190b16909e38db289.jpg           1\n",
       "17473  ff9b5f66dfa0f316b167084f0108c189.jpg           1\n",
       "17474  ff9da08031f447c2fff7766461e7c2dd.jpg           0\n",
       "17475  ffa6090ece03a8b7689a1be0a0ea893c.jpg           0\n",
       "17476  ffaeec2a3d8a657bc1479c5c0d38b38b.jpg           0\n",
       "17477  ffb017097eddff134ae12a844b7691df.jpg           0\n",
       "17478  ffb1dae6aedf582f5aba78ebc50e00d8.jpg           1\n",
       "17479  ffb3b4cf5fca27d68a599a8ad8c26ec6.jpg           0\n",
       "17480  ffb6084495fab237f523e574836f136c.jpg           0\n",
       "17481  ffbeb9b203222189319ac68a83500707.jpg           1\n",
       "17482  ffc174b5f5aef74f7fcd646cbb259784.jpg           1\n",
       "17483  ffc53a9af378a0a27610d20754006a72.jpg           1\n",
       "17484  ffc850bac95f43ecd72924b750950276.jpg           0\n",
       "17485  ffcd13809e02dcda609dc47202f1fd0e.jpg           0\n",
       "17486  ffd2d1cf5e48b82bf687ce47cbf7d343.jpg           1\n",
       "17487  ffd48101a898def476122e04fd1d54f1.jpg           1\n",
       "17488  ffd686dcbe047a863de4d250d9b7687a.jpg           1\n",
       "17489  ffded2566b32d90c8fc9fe116ce1ba6f.jpg           1\n",
       "17490  ffe49c4570c6d3be26d63c8c3aecdc91.jpg           1\n",
       "17491  ffe60470e1ee7fed0833148bf83b7d4c.jpg           0\n",
       "17492  ffe6c69f8beced1c36f1dd1def313490.jpg           1\n",
       "17493  ffeafc3bd716a83bc93014fdb0ef53fa.jpg           1\n",
       "17494  ffed5c4d70e58d53fbba6e92570371ef.jpg           1\n",
       "17495  ffede47a74e47a5930f81c0b6896479e.jpg           0\n",
       "17496  ffef6382a50d23251d4bc05519c91037.jpg           1\n",
       "17497  fff059ecc91b30be5745e8b81111dc7b.jpg           1\n",
       "17498  fff43acb3b7a23edcc4ae937be2b7522.jpg           0\n",
       "17499  fffd9e9b990eba07c836745d8aef1a3a.jpg           1\n",
       "\n",
       "[17500 rows x 2 columns]"
      ]
     },
     "execution_count": 86,
     "metadata": {},
     "output_type": "execute_result"
    }
   ],
   "source": [
    "import pandas as pd\n",
    "\n",
    "targets_df = pd.read_csv('train.csv')\n",
    "targets_df"
   ]
  },
  {
   "cell_type": "code",
   "execution_count": 87,
   "metadata": {},
   "outputs": [],
   "source": [
    "targets = dict(zip(targets_df.id, targets_df.has_cactus))"
   ]
  },
  {
   "cell_type": "code",
   "execution_count": 106,
   "metadata": {},
   "outputs": [],
   "source": [
    "labels = []\n",
    "train = []\n",
    "for id, image in images.items():\n",
    "    train.append(image)\n",
    "    labels.append(targets[id])\n",
    "\n",
    "labels = np.array(labels)\n",
    "train = np.array(train)"
   ]
  },
  {
   "cell_type": "code",
   "execution_count": 108,
   "metadata": {},
   "outputs": [
    {
     "data": {
      "text/plain": [
       "(17500, 32, 32, 3)"
      ]
     },
     "execution_count": 108,
     "metadata": {},
     "output_type": "execute_result"
    }
   ],
   "source": [
    "train.shape"
   ]
  },
  {
   "cell_type": "code",
   "execution_count": 128,
   "metadata": {},
   "outputs": [],
   "source": [
    "X_train = train[0:14000]\n",
    "y_train = labels[0:14000]\n",
    "\n",
    "X_test = train[14000:]\n",
    "y_test = labels[14000:]\n"
   ]
  },
  {
   "cell_type": "code",
   "execution_count": 129,
   "metadata": {},
   "outputs": [
    {
     "data": {
      "text/plain": [
       "(3500, 32, 32, 3)"
      ]
     },
     "execution_count": 129,
     "metadata": {},
     "output_type": "execute_result"
    }
   ],
   "source": [
    "X_test.shape"
   ]
  },
  {
   "cell_type": "code",
   "execution_count": 130,
   "metadata": {},
   "outputs": [],
   "source": [
    "X_test = X_test.reshape(3500, -1)"
   ]
  },
  {
   "cell_type": "code",
   "execution_count": 131,
   "metadata": {},
   "outputs": [
    {
     "data": {
      "text/plain": [
       "(3500, 3072)"
      ]
     },
     "execution_count": 131,
     "metadata": {},
     "output_type": "execute_result"
    }
   ],
   "source": [
    "X_test.shape"
   ]
  },
  {
   "cell_type": "code",
   "execution_count": 136,
   "metadata": {},
   "outputs": [
    {
     "data": {
      "text/plain": [
       "array([[106,  98, 115, ...,  41,  33,  40],\n",
       "       [123, 114, 134, ..., 116, 122, 133],\n",
       "       [ 88,  90,  91, ...,  59,  56,  58],\n",
       "       ...,\n",
       "       [ 96,  91, 100, ..., 105, 104, 113],\n",
       "       [134, 131, 146, ..., 133, 130, 145],\n",
       "       [163, 148, 176, ...,  92,  98,  93]], dtype=uint8)"
      ]
     },
     "execution_count": 136,
     "metadata": {},
     "output_type": "execute_result"
    }
   ],
   "source": [
    "X_test"
   ]
  },
  {
   "cell_type": "code",
   "execution_count": null,
   "metadata": {},
   "outputs": [],
   "source": []
  }
 ],
 "metadata": {
  "kernelspec": {
   "display_name": "Python 3",
   "language": "python",
   "name": "python3"
  },
  "language_info": {
   "codemirror_mode": {
    "name": "ipython",
    "version": 3
   },
   "file_extension": ".py",
   "mimetype": "text/x-python",
   "name": "python",
   "nbconvert_exporter": "python",
   "pygments_lexer": "ipython3",
   "version": "3.6.7"
  }
 },
 "nbformat": 4,
 "nbformat_minor": 2
}
